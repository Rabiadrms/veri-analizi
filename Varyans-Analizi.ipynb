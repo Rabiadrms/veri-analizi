{
 "cells": [
  {
   "cell_type": "code",
   "execution_count": null,
   "id": "bd650e60",
   "metadata": {},
   "outputs": [],
   "source": [
    "#İŞ UYGULAMASI "
   ]
  },
  {
   "cell_type": "markdown",
   "id": "637cac89",
   "metadata": {},
   "source": [
    "    PROBLEM : Anasayfada geçirilen süre arttırılmak isteniyor.\n",
    "    DETAYLAR :\n",
    "   - Bir web sitesi için başarı kriterleri : ortalama ziyaret süresi , hemen çıkış oranı vb.\n",
    "   - Uzun zaman geçiren kullanıcıların daha fazla tıkladığı ve markaya olan bağlılıklarının arttığı biliniyor.\n",
    "   - Buna yönelik olarak benzer haberler farklı resimler ya da farklı formatlarda hazırlanarak oluşturulan test gruplarına gösteriliyor."
   ]
  },
  {
   "cell_type": "code",
   "execution_count": 2,
   "id": "283230c5",
   "metadata": {},
   "outputs": [],
   "source": [
    "import pandas as pd\n",
    "import numpy as np"
   ]
  },
  {
   "cell_type": "code",
   "execution_count": 3,
   "id": "c3408a14",
   "metadata": {},
   "outputs": [
    {
     "data": {
      "text/html": [
       "<div>\n",
       "<style scoped>\n",
       "    .dataframe tbody tr th:only-of-type {\n",
       "        vertical-align: middle;\n",
       "    }\n",
       "\n",
       "    .dataframe tbody tr th {\n",
       "        vertical-align: top;\n",
       "    }\n",
       "\n",
       "    .dataframe thead th {\n",
       "        text-align: right;\n",
       "    }\n",
       "</style>\n",
       "<table border=\"1\" class=\"dataframe\">\n",
       "  <thead>\n",
       "    <tr style=\"text-align: right;\">\n",
       "      <th></th>\n",
       "      <th>GRUP_A</th>\n",
       "      <th>GRUP_B</th>\n",
       "      <th>GRUP_C</th>\n",
       "    </tr>\n",
       "  </thead>\n",
       "  <tbody>\n",
       "    <tr>\n",
       "      <th>0</th>\n",
       "      <td>128</td>\n",
       "      <td>116</td>\n",
       "      <td>130</td>\n",
       "    </tr>\n",
       "    <tr>\n",
       "      <th>1</th>\n",
       "      <td>117</td>\n",
       "      <td>121</td>\n",
       "      <td>112</td>\n",
       "    </tr>\n",
       "    <tr>\n",
       "      <th>2</th>\n",
       "      <td>115</td>\n",
       "      <td>103</td>\n",
       "      <td>120</td>\n",
       "    </tr>\n",
       "    <tr>\n",
       "      <th>3</th>\n",
       "      <td>106</td>\n",
       "      <td>107</td>\n",
       "      <td>130</td>\n",
       "    </tr>\n",
       "    <tr>\n",
       "      <th>4</th>\n",
       "      <td>104</td>\n",
       "      <td>105</td>\n",
       "      <td>123</td>\n",
       "    </tr>\n",
       "  </tbody>\n",
       "</table>\n",
       "</div>"
      ],
      "text/plain": [
       "   GRUP_A  GRUP_B  GRUP_C\n",
       "0     128     116     130\n",
       "1     117     121     112\n",
       "2     115     103     120\n",
       "3     106     107     130\n",
       "4     104     105     123"
      ]
     },
     "execution_count": 3,
     "metadata": {},
     "output_type": "execute_result"
    }
   ],
   "source": [
    "A = pd.DataFrame([128, 117, 115, 106, 104, 110, 109, 105, 119, 123, 120, 100, 128, 107, 116, 105, 126, 124, 114, 124, 106, 103, 128, 126, 123])\n",
    "\n",
    "B = pd.DataFrame([116, 121, 103, 107, 105, 120, 124, 118, 100, 110, 117, 113, 128, 119, 123, 124, 118, 106, 111, 107, 109, 121, 112, 103, 117])\n",
    "\n",
    "C = pd.DataFrame([130, 112, 120, 130, 123, 107, 107, 121, 112, 110, 114, 101, 107, 114, 122, 117, 114, 104, 119, 126, 119, 130, 118, 105, 125])\n",
    "\n",
    "dfs = [A, B, C]\n",
    "\n",
    "ABC = pd.concat(dfs, axis=1)\n",
    "ABC.columns = [\"GRUP_A\",\"GRUP_B\",\"GRUP_C\"]\n",
    "ABC.head()"
   ]
  },
  {
   "cell_type": "code",
   "execution_count": 4,
   "id": "6d1abbbe",
   "metadata": {},
   "outputs": [],
   "source": [
    "#Varsayım kontrolü"
   ]
  },
  {
   "cell_type": "markdown",
   "id": "6c12ab17",
   "metadata": {},
   "source": [
    "3 adet varsayımda bulunduk.\n",
    "1. Grupların birbirinden bağımsız olması\n",
    "2. Normallik varsayımı\n",
    "3. Varyans homojenliği"
   ]
  },
  {
   "cell_type": "code",
   "execution_count": 5,
   "id": "ab850870",
   "metadata": {},
   "outputs": [],
   "source": [
    "from scipy.stats import shapiro"
   ]
  },
  {
   "cell_type": "code",
   "execution_count": 6,
   "id": "c5163a2f",
   "metadata": {},
   "outputs": [
    {
     "data": {
      "text/plain": [
       "ShapiroResult(statistic=0.9140145778656006, pvalue=0.03749677911400795)"
      ]
     },
     "execution_count": 6,
     "metadata": {},
     "output_type": "execute_result"
    }
   ],
   "source": [
    "shapiro(ABC[\"GRUP_A\"])"
   ]
  },
  {
   "cell_type": "code",
   "execution_count": 7,
   "id": "6c343203",
   "metadata": {},
   "outputs": [
    {
     "data": {
      "text/plain": [
       "ShapiroResult(statistic=0.9652878046035767, pvalue=0.5294153690338135)"
      ]
     },
     "execution_count": 7,
     "metadata": {},
     "output_type": "execute_result"
    }
   ],
   "source": [
    "shapiro(ABC[\"GRUP_B\"])"
   ]
  },
  {
   "cell_type": "code",
   "execution_count": 8,
   "id": "d9b4dd84",
   "metadata": {},
   "outputs": [
    {
     "data": {
      "text/plain": [
       "ShapiroResult(statistic=0.9641018509864807, pvalue=0.5020450949668884)"
      ]
     },
     "execution_count": 8,
     "metadata": {},
     "output_type": "execute_result"
    }
   ],
   "source": [
    "shapiro(ABC[\"GRUP_C\"])"
   ]
  },
  {
   "cell_type": "code",
   "execution_count": 11,
   "id": "4cf6c1cf",
   "metadata": {},
   "outputs": [],
   "source": [
    "from scipy.stats import levene"
   ]
  },
  {
   "cell_type": "code",
   "execution_count": 12,
   "id": "0b941eec",
   "metadata": {},
   "outputs": [
    {
     "data": {
      "text/plain": [
       "LeveneResult(statistic=0.7880721703312644, pvalue=0.4586030667375188)"
      ]
     },
     "execution_count": 12,
     "metadata": {},
     "output_type": "execute_result"
    }
   ],
   "source": [
    "levene(ABC[\"GRUP_A\"] , ABC[\"GRUP_B\"], ABC[\"GRUP_C\"] )"
   ]
  },
  {
   "cell_type": "code",
   "execution_count": 13,
   "id": "351c20b8",
   "metadata": {},
   "outputs": [],
   "source": [
    "#Hipotez testi"
   ]
  },
  {
   "cell_type": "code",
   "execution_count": 14,
   "id": "005ac5d8",
   "metadata": {},
   "outputs": [],
   "source": [
    "from scipy.stats import f_oneway"
   ]
  },
  {
   "cell_type": "code",
   "execution_count": 15,
   "id": "20d9ac75",
   "metadata": {},
   "outputs": [
    {
     "data": {
      "text/plain": [
       "F_onewayResult(statistic=0.4255789328299803, pvalue=0.6550242219789555)"
      ]
     },
     "execution_count": 15,
     "metadata": {},
     "output_type": "execute_result"
    }
   ],
   "source": [
    "f_oneway(ABC[\"GRUP_A\"] , ABC[\"GRUP_B\"], ABC[\"GRUP_C\"] )"
   ]
  },
  {
   "cell_type": "code",
   "execution_count": 16,
   "id": "eec9eb7c",
   "metadata": {},
   "outputs": [
    {
     "name": "stdout",
     "output_type": "stream",
     "text": [
      "0.65502\n"
     ]
    }
   ],
   "source": [
    "print ('{:.5f}'. format(f_oneway(ABC[\"GRUP_A\"] , ABC[\"GRUP_B\"], ABC[\"GRUP_C\"] )[1]))"
   ]
  },
  {
   "cell_type": "code",
   "execution_count": 17,
   "id": "23a2b65d",
   "metadata": {},
   "outputs": [
    {
     "data": {
      "text/html": [
       "<div>\n",
       "<style scoped>\n",
       "    .dataframe tbody tr th:only-of-type {\n",
       "        vertical-align: middle;\n",
       "    }\n",
       "\n",
       "    .dataframe tbody tr th {\n",
       "        vertical-align: top;\n",
       "    }\n",
       "\n",
       "    .dataframe thead th {\n",
       "        text-align: right;\n",
       "    }\n",
       "</style>\n",
       "<table border=\"1\" class=\"dataframe\">\n",
       "  <thead>\n",
       "    <tr style=\"text-align: right;\">\n",
       "      <th></th>\n",
       "      <th>count</th>\n",
       "      <th>mean</th>\n",
       "      <th>std</th>\n",
       "      <th>min</th>\n",
       "      <th>25%</th>\n",
       "      <th>50%</th>\n",
       "      <th>75%</th>\n",
       "      <th>max</th>\n",
       "    </tr>\n",
       "  </thead>\n",
       "  <tbody>\n",
       "    <tr>\n",
       "      <th>GRUP_A</th>\n",
       "      <td>25.0</td>\n",
       "      <td>115.44</td>\n",
       "      <td>9.260490</td>\n",
       "      <td>100.0</td>\n",
       "      <td>106.0</td>\n",
       "      <td>116.0</td>\n",
       "      <td>124.0</td>\n",
       "      <td>128.0</td>\n",
       "    </tr>\n",
       "    <tr>\n",
       "      <th>GRUP_B</th>\n",
       "      <td>25.0</td>\n",
       "      <td>114.08</td>\n",
       "      <td>7.707788</td>\n",
       "      <td>100.0</td>\n",
       "      <td>107.0</td>\n",
       "      <td>116.0</td>\n",
       "      <td>120.0</td>\n",
       "      <td>128.0</td>\n",
       "    </tr>\n",
       "    <tr>\n",
       "      <th>GRUP_C</th>\n",
       "      <td>25.0</td>\n",
       "      <td>116.28</td>\n",
       "      <td>8.487834</td>\n",
       "      <td>101.0</td>\n",
       "      <td>110.0</td>\n",
       "      <td>117.0</td>\n",
       "      <td>122.0</td>\n",
       "      <td>130.0</td>\n",
       "    </tr>\n",
       "  </tbody>\n",
       "</table>\n",
       "</div>"
      ],
      "text/plain": [
       "        count    mean       std    min    25%    50%    75%    max\n",
       "GRUP_A   25.0  115.44  9.260490  100.0  106.0  116.0  124.0  128.0\n",
       "GRUP_B   25.0  114.08  7.707788  100.0  107.0  116.0  120.0  128.0\n",
       "GRUP_C   25.0  116.28  8.487834  101.0  110.0  117.0  122.0  130.0"
      ]
     },
     "execution_count": 17,
     "metadata": {},
     "output_type": "execute_result"
    }
   ],
   "source": [
    "ABC.describe().T"
   ]
  },
  {
   "cell_type": "code",
   "execution_count": 18,
   "id": "edcc6bee",
   "metadata": {},
   "outputs": [],
   "source": [
    "#NONPARAMETRİK HİPOTEZ TESTİ"
   ]
  },
  {
   "cell_type": "code",
   "execution_count": 19,
   "id": "3c26896a",
   "metadata": {},
   "outputs": [],
   "source": [
    "from scipy.stats import kruskal"
   ]
  },
  {
   "cell_type": "code",
   "execution_count": 20,
   "id": "6a327bc5",
   "metadata": {},
   "outputs": [
    {
     "data": {
      "text/plain": [
       "KruskalResult(statistic=0.8291206613926004, pvalue=0.6606306758906519)"
      ]
     },
     "execution_count": 20,
     "metadata": {},
     "output_type": "execute_result"
    }
   ],
   "source": [
    "kruskal(ABC[\"GRUP_A\"] , ABC[\"GRUP_B\"], ABC[\"GRUP_C\"] )"
   ]
  },
  {
   "cell_type": "code",
   "execution_count": null,
   "id": "f387ca97",
   "metadata": {},
   "outputs": [],
   "source": []
  }
 ],
 "metadata": {
  "kernelspec": {
   "display_name": "Python 3 (ipykernel)",
   "language": "python",
   "name": "python3"
  },
  "language_info": {
   "codemirror_mode": {
    "name": "ipython",
    "version": 3
   },
   "file_extension": ".py",
   "mimetype": "text/x-python",
   "name": "python",
   "nbconvert_exporter": "python",
   "pygments_lexer": "ipython3",
   "version": "3.9.7"
  }
 },
 "nbformat": 4,
 "nbformat_minor": 5
}
