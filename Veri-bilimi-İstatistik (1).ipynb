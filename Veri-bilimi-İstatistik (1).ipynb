{
 "cells": [
  {
   "cell_type": "markdown",
   "id": "a6aa855e",
   "metadata": {},
   "source": [
    "#İstatistik veri biliminin \"bilim\" makine öğrenmesinin \"Öğrenme kısmıdır\""
   ]
  },
  {
   "cell_type": "code",
   "execution_count": 1,
   "id": "50592869",
   "metadata": {},
   "outputs": [],
   "source": [
    "#Örnek Teorisi\n",
    "import numpy as np"
   ]
  },
  {
   "cell_type": "code",
   "execution_count": 2,
   "id": "2f751ba8",
   "metadata": {},
   "outputs": [],
   "source": [
    "populasyon = np.random.randint(0,80,10000)"
   ]
  },
  {
   "cell_type": "code",
   "execution_count": 3,
   "id": "566af788",
   "metadata": {},
   "outputs": [
    {
     "data": {
      "text/plain": [
       "array([72, 73, 53, 18, 18, 15, 62, 16,  9, 40])"
      ]
     },
     "execution_count": 3,
     "metadata": {},
     "output_type": "execute_result"
    }
   ],
   "source": [
    "populasyon [0:10]"
   ]
  },
  {
   "cell_type": "code",
   "execution_count": 4,
   "id": "8ba60d6b",
   "metadata": {},
   "outputs": [
    {
     "data": {
      "text/plain": [
       "array([31, 55, 57, 36, 30, 10, 79, 39, 17, 41])"
      ]
     },
     "execution_count": 4,
     "metadata": {},
     "output_type": "execute_result"
    }
   ],
   "source": [
    "#örneklem çekimi\n",
    "np.random.seed(115)\n",
    "orneklem = np.random.choice (a= populasyon , size =100)\n",
    "orneklem[0:10]"
   ]
  },
  {
   "cell_type": "code",
   "execution_count": 5,
   "id": "5755ee55",
   "metadata": {},
   "outputs": [
    {
     "data": {
      "text/plain": [
       "41.85"
      ]
     },
     "execution_count": 5,
     "metadata": {},
     "output_type": "execute_result"
    }
   ],
   "source": [
    "orneklem.mean()"
   ]
  },
  {
   "cell_type": "code",
   "execution_count": 6,
   "id": "bb43c47b",
   "metadata": {},
   "outputs": [
    {
     "data": {
      "text/plain": [
       "39.6253"
      ]
     },
     "execution_count": 6,
     "metadata": {},
     "output_type": "execute_result"
    }
   ],
   "source": [
    "populasyon.mean()"
   ]
  },
  {
   "cell_type": "markdown",
   "id": "f03dc381",
   "metadata": {},
   "source": [
    "#örneklem dağılımı"
   ]
  },
  {
   "cell_type": "code",
   "execution_count": 7,
   "id": "6a0d0025",
   "metadata": {},
   "outputs": [],
   "source": [
    "np.random.seed(10)\n",
    "orneklem1 = np.random.choice(a = populasyon, size = 100)\n",
    "orneklem2 = np.random.choice(a = populasyon, size = 100)\n",
    "orneklem3 = np.random.choice(a = populasyon, size = 100)\n",
    "orneklem4 = np.random.choice(a = populasyon, size = 100)\n",
    "orneklem5 = np.random.choice(a = populasyon, size = 100)\n",
    "orneklem6 = np.random.choice(a = populasyon, size = 100)\n",
    "orneklem7 = np.random.choice(a = populasyon, size = 100)\n",
    "orneklem8 = np.random.choice(a = populasyon, size = 100)\n",
    "orneklem9 = np.random.choice(a = populasyon, size = 100)\n",
    "orneklem10 = np.random.choice(a = populasyon, size = 100)"
   ]
  },
  {
   "cell_type": "code",
   "execution_count": 9,
   "id": "f22ac178",
   "metadata": {},
   "outputs": [
    {
     "data": {
      "text/plain": [
       "41.166000000000004"
      ]
     },
     "execution_count": 9,
     "metadata": {},
     "output_type": "execute_result"
    }
   ],
   "source": [
    "(orneklem1.mean() + orneklem2.mean() + orneklem3.mean() + orneklem4.mean() + orneklem5.mean() + orneklem6.mean() +\n",
    "orneklem7.mean() + orneklem8.mean() + orneklem9.mean() + orneklem10.mean()) /10"
   ]
  },
  {
   "cell_type": "markdown",
   "id": "a4f05892",
   "metadata": {},
   "source": [
    "cov (X,Y)= E[X-E[X])(Y-E[Y])]"
   ]
  },
  {
   "cell_type": "code",
   "execution_count": 10,
   "id": "89d0fb7b",
   "metadata": {},
   "outputs": [],
   "source": [
    "#Betimsel İstatistikler\n",
    "import seaborn as sns"
   ]
  },
  {
   "cell_type": "code",
   "execution_count": 11,
   "id": "f9ba9c23",
   "metadata": {},
   "outputs": [
    {
     "data": {
      "text/html": [
       "<div>\n",
       "<style scoped>\n",
       "    .dataframe tbody tr th:only-of-type {\n",
       "        vertical-align: middle;\n",
       "    }\n",
       "\n",
       "    .dataframe tbody tr th {\n",
       "        vertical-align: top;\n",
       "    }\n",
       "\n",
       "    .dataframe thead th {\n",
       "        text-align: right;\n",
       "    }\n",
       "</style>\n",
       "<table border=\"1\" class=\"dataframe\">\n",
       "  <thead>\n",
       "    <tr style=\"text-align: right;\">\n",
       "      <th></th>\n",
       "      <th>total_bill</th>\n",
       "      <th>tip</th>\n",
       "      <th>sex</th>\n",
       "      <th>smoker</th>\n",
       "      <th>day</th>\n",
       "      <th>time</th>\n",
       "      <th>size</th>\n",
       "    </tr>\n",
       "  </thead>\n",
       "  <tbody>\n",
       "    <tr>\n",
       "      <th>0</th>\n",
       "      <td>16.99</td>\n",
       "      <td>1.01</td>\n",
       "      <td>Female</td>\n",
       "      <td>No</td>\n",
       "      <td>Sun</td>\n",
       "      <td>Dinner</td>\n",
       "      <td>2</td>\n",
       "    </tr>\n",
       "    <tr>\n",
       "      <th>1</th>\n",
       "      <td>10.34</td>\n",
       "      <td>1.66</td>\n",
       "      <td>Male</td>\n",
       "      <td>No</td>\n",
       "      <td>Sun</td>\n",
       "      <td>Dinner</td>\n",
       "      <td>3</td>\n",
       "    </tr>\n",
       "    <tr>\n",
       "      <th>2</th>\n",
       "      <td>21.01</td>\n",
       "      <td>3.50</td>\n",
       "      <td>Male</td>\n",
       "      <td>No</td>\n",
       "      <td>Sun</td>\n",
       "      <td>Dinner</td>\n",
       "      <td>3</td>\n",
       "    </tr>\n",
       "    <tr>\n",
       "      <th>3</th>\n",
       "      <td>23.68</td>\n",
       "      <td>3.31</td>\n",
       "      <td>Male</td>\n",
       "      <td>No</td>\n",
       "      <td>Sun</td>\n",
       "      <td>Dinner</td>\n",
       "      <td>2</td>\n",
       "    </tr>\n",
       "    <tr>\n",
       "      <th>4</th>\n",
       "      <td>24.59</td>\n",
       "      <td>3.61</td>\n",
       "      <td>Female</td>\n",
       "      <td>No</td>\n",
       "      <td>Sun</td>\n",
       "      <td>Dinner</td>\n",
       "      <td>4</td>\n",
       "    </tr>\n",
       "  </tbody>\n",
       "</table>\n",
       "</div>"
      ],
      "text/plain": [
       "   total_bill   tip     sex smoker  day    time  size\n",
       "0       16.99  1.01  Female     No  Sun  Dinner     2\n",
       "1       10.34  1.66    Male     No  Sun  Dinner     3\n",
       "2       21.01  3.50    Male     No  Sun  Dinner     3\n",
       "3       23.68  3.31    Male     No  Sun  Dinner     2\n",
       "4       24.59  3.61  Female     No  Sun  Dinner     4"
      ]
     },
     "execution_count": 11,
     "metadata": {},
     "output_type": "execute_result"
    }
   ],
   "source": [
    "tips = sns.load_dataset(\"tips\")\n",
    "df = tips.copy()\n",
    "df.head()"
   ]
  },
  {
   "cell_type": "code",
   "execution_count": 12,
   "id": "dd05f299",
   "metadata": {},
   "outputs": [
    {
     "data": {
      "text/html": [
       "<div>\n",
       "<style scoped>\n",
       "    .dataframe tbody tr th:only-of-type {\n",
       "        vertical-align: middle;\n",
       "    }\n",
       "\n",
       "    .dataframe tbody tr th {\n",
       "        vertical-align: top;\n",
       "    }\n",
       "\n",
       "    .dataframe thead th {\n",
       "        text-align: right;\n",
       "    }\n",
       "</style>\n",
       "<table border=\"1\" class=\"dataframe\">\n",
       "  <thead>\n",
       "    <tr style=\"text-align: right;\">\n",
       "      <th></th>\n",
       "      <th>count</th>\n",
       "      <th>mean</th>\n",
       "      <th>std</th>\n",
       "      <th>min</th>\n",
       "      <th>25%</th>\n",
       "      <th>50%</th>\n",
       "      <th>75%</th>\n",
       "      <th>max</th>\n",
       "    </tr>\n",
       "  </thead>\n",
       "  <tbody>\n",
       "    <tr>\n",
       "      <th>total_bill</th>\n",
       "      <td>244.0</td>\n",
       "      <td>19.785943</td>\n",
       "      <td>8.902412</td>\n",
       "      <td>3.07</td>\n",
       "      <td>13.3475</td>\n",
       "      <td>17.795</td>\n",
       "      <td>24.1275</td>\n",
       "      <td>50.81</td>\n",
       "    </tr>\n",
       "    <tr>\n",
       "      <th>tip</th>\n",
       "      <td>244.0</td>\n",
       "      <td>2.998279</td>\n",
       "      <td>1.383638</td>\n",
       "      <td>1.00</td>\n",
       "      <td>2.0000</td>\n",
       "      <td>2.900</td>\n",
       "      <td>3.5625</td>\n",
       "      <td>10.00</td>\n",
       "    </tr>\n",
       "    <tr>\n",
       "      <th>size</th>\n",
       "      <td>244.0</td>\n",
       "      <td>2.569672</td>\n",
       "      <td>0.951100</td>\n",
       "      <td>1.00</td>\n",
       "      <td>2.0000</td>\n",
       "      <td>2.000</td>\n",
       "      <td>3.0000</td>\n",
       "      <td>6.00</td>\n",
       "    </tr>\n",
       "  </tbody>\n",
       "</table>\n",
       "</div>"
      ],
      "text/plain": [
       "            count       mean       std   min      25%     50%      75%    max\n",
       "total_bill  244.0  19.785943  8.902412  3.07  13.3475  17.795  24.1275  50.81\n",
       "tip         244.0   2.998279  1.383638  1.00   2.0000   2.900   3.5625  10.00\n",
       "size        244.0   2.569672  0.951100  1.00   2.0000   2.000   3.0000   6.00"
      ]
     },
     "execution_count": 12,
     "metadata": {},
     "output_type": "execute_result"
    }
   ],
   "source": [
    "df.describe().T"
   ]
  },
  {
   "cell_type": "code",
   "execution_count": 17,
   "id": "35f3349c",
   "metadata": {},
   "outputs": [
    {
     "name": "stdout",
     "output_type": "stream",
     "text": [
      "Requirement already satisfied: researchpy in c:\\users\\faruk\\anaconda3\\lib\\site-packages (0.3.5)\n",
      "Requirement already satisfied: statsmodels in c:\\users\\faruk\\anaconda3\\lib\\site-packages (from researchpy) (0.12.2)\n",
      "Requirement already satisfied: patsy in c:\\users\\faruk\\anaconda3\\lib\\site-packages (from researchpy) (0.5.2)\n",
      "Requirement already satisfied: scipy in c:\\users\\faruk\\anaconda3\\lib\\site-packages (from researchpy) (1.7.1)\n",
      "Requirement already satisfied: pandas in c:\\users\\faruk\\anaconda3\\lib\\site-packages (from researchpy) (1.3.4)\n",
      "Requirement already satisfied: numpy in c:\\users\\faruk\\anaconda3\\lib\\site-packages (from researchpy) (1.20.3)\n",
      "Requirement already satisfied: pytz>=2017.3 in c:\\users\\faruk\\anaconda3\\lib\\site-packages (from pandas->researchpy) (2021.3)\n",
      "Requirement already satisfied: python-dateutil>=2.7.3 in c:\\users\\faruk\\anaconda3\\lib\\site-packages (from pandas->researchpy) (2.8.2)\n",
      "Requirement already satisfied: six>=1.5 in c:\\users\\faruk\\anaconda3\\lib\\site-packages (from python-dateutil>=2.7.3->pandas->researchpy) (1.16.0)\n"
     ]
    }
   ],
   "source": [
    "!pip install researchpy\n",
    "import researchpy as np "
   ]
  },
  {
   "cell_type": "code",
   "execution_count": 21,
   "id": "b4c06a74",
   "metadata": {},
   "outputs": [
    {
     "name": "stdout",
     "output_type": "stream",
     "text": [
      "\n",
      "\n"
     ]
    },
    {
     "data": {
      "text/html": [
       "<div>\n",
       "<style scoped>\n",
       "    .dataframe tbody tr th:only-of-type {\n",
       "        vertical-align: middle;\n",
       "    }\n",
       "\n",
       "    .dataframe tbody tr th {\n",
       "        vertical-align: top;\n",
       "    }\n",
       "\n",
       "    .dataframe thead th {\n",
       "        text-align: right;\n",
       "    }\n",
       "</style>\n",
       "<table border=\"1\" class=\"dataframe\">\n",
       "  <thead>\n",
       "    <tr style=\"text-align: right;\">\n",
       "      <th></th>\n",
       "      <th>Variable</th>\n",
       "      <th>N</th>\n",
       "      <th>Mean</th>\n",
       "      <th>SD</th>\n",
       "      <th>SE</th>\n",
       "      <th>95% Conf.</th>\n",
       "      <th>Interval</th>\n",
       "    </tr>\n",
       "  </thead>\n",
       "  <tbody>\n",
       "    <tr>\n",
       "      <th>0</th>\n",
       "      <td>total_bill</td>\n",
       "      <td>244.0</td>\n",
       "      <td>19.7859</td>\n",
       "      <td>8.9024</td>\n",
       "      <td>0.5699</td>\n",
       "      <td>18.6633</td>\n",
       "      <td>20.9086</td>\n",
       "    </tr>\n",
       "    <tr>\n",
       "      <th>1</th>\n",
       "      <td>tip</td>\n",
       "      <td>244.0</td>\n",
       "      <td>2.9983</td>\n",
       "      <td>1.3836</td>\n",
       "      <td>0.0886</td>\n",
       "      <td>2.8238</td>\n",
       "      <td>3.1728</td>\n",
       "    </tr>\n",
       "    <tr>\n",
       "      <th>2</th>\n",
       "      <td>size</td>\n",
       "      <td>244.0</td>\n",
       "      <td>2.5697</td>\n",
       "      <td>0.9511</td>\n",
       "      <td>0.0609</td>\n",
       "      <td>2.4497</td>\n",
       "      <td>2.6896</td>\n",
       "    </tr>\n",
       "  </tbody>\n",
       "</table>\n",
       "</div>"
      ],
      "text/plain": [
       "     Variable      N     Mean      SD      SE  95% Conf.  Interval\n",
       "0  total_bill  244.0  19.7859  8.9024  0.5699    18.6633   20.9086\n",
       "1         tip  244.0   2.9983  1.3836  0.0886     2.8238    3.1728\n",
       "2        size  244.0   2.5697  0.9511  0.0609     2.4497    2.6896"
      ]
     },
     "execution_count": 21,
     "metadata": {},
     "output_type": "execute_result"
    }
   ],
   "source": [
    "np.summary_cont(df[[\"total_bill\" ,\"tip\" , \"size\"]]) "
   ]
  },
  {
   "cell_type": "code",
   "execution_count": 24,
   "id": "e779036a",
   "metadata": {},
   "outputs": [
    {
     "data": {
      "text/html": [
       "<div>\n",
       "<style scoped>\n",
       "    .dataframe tbody tr th:only-of-type {\n",
       "        vertical-align: middle;\n",
       "    }\n",
       "\n",
       "    .dataframe tbody tr th {\n",
       "        vertical-align: top;\n",
       "    }\n",
       "\n",
       "    .dataframe thead th {\n",
       "        text-align: right;\n",
       "    }\n",
       "</style>\n",
       "<table border=\"1\" class=\"dataframe\">\n",
       "  <thead>\n",
       "    <tr style=\"text-align: right;\">\n",
       "      <th></th>\n",
       "      <th>Variable</th>\n",
       "      <th>Outcome</th>\n",
       "      <th>Count</th>\n",
       "      <th>Percent</th>\n",
       "    </tr>\n",
       "  </thead>\n",
       "  <tbody>\n",
       "    <tr>\n",
       "      <th>0</th>\n",
       "      <td>sex</td>\n",
       "      <td>Male</td>\n",
       "      <td>157</td>\n",
       "      <td>64.34</td>\n",
       "    </tr>\n",
       "    <tr>\n",
       "      <th>1</th>\n",
       "      <td></td>\n",
       "      <td>Female</td>\n",
       "      <td>87</td>\n",
       "      <td>35.66</td>\n",
       "    </tr>\n",
       "    <tr>\n",
       "      <th>2</th>\n",
       "      <td>smoker</td>\n",
       "      <td>No</td>\n",
       "      <td>151</td>\n",
       "      <td>61.89</td>\n",
       "    </tr>\n",
       "    <tr>\n",
       "      <th>3</th>\n",
       "      <td></td>\n",
       "      <td>Yes</td>\n",
       "      <td>93</td>\n",
       "      <td>38.11</td>\n",
       "    </tr>\n",
       "    <tr>\n",
       "      <th>4</th>\n",
       "      <td>day</td>\n",
       "      <td>Sat</td>\n",
       "      <td>87</td>\n",
       "      <td>35.66</td>\n",
       "    </tr>\n",
       "    <tr>\n",
       "      <th>5</th>\n",
       "      <td></td>\n",
       "      <td>Sun</td>\n",
       "      <td>76</td>\n",
       "      <td>31.15</td>\n",
       "    </tr>\n",
       "    <tr>\n",
       "      <th>6</th>\n",
       "      <td></td>\n",
       "      <td>Thur</td>\n",
       "      <td>62</td>\n",
       "      <td>25.41</td>\n",
       "    </tr>\n",
       "    <tr>\n",
       "      <th>7</th>\n",
       "      <td></td>\n",
       "      <td>Fri</td>\n",
       "      <td>19</td>\n",
       "      <td>7.79</td>\n",
       "    </tr>\n",
       "  </tbody>\n",
       "</table>\n",
       "</div>"
      ],
      "text/plain": [
       "  Variable Outcome  Count  Percent\n",
       "0      sex    Male    157    64.34\n",
       "1           Female     87    35.66\n",
       "2   smoker      No    151    61.89\n",
       "3              Yes     93    38.11\n",
       "4      day     Sat     87    35.66\n",
       "5              Sun     76    31.15\n",
       "6             Thur     62    25.41\n",
       "7              Fri     19     7.79"
      ]
     },
     "execution_count": 24,
     "metadata": {},
     "output_type": "execute_result"
    }
   ],
   "source": [
    "np.summary_cat(df[[\"sex\" ,\"smoker\" , \"day\"]])"
   ]
  },
  {
   "cell_type": "code",
   "execution_count": 25,
   "id": "ca440800",
   "metadata": {},
   "outputs": [
    {
     "data": {
      "text/html": [
       "<div>\n",
       "<style scoped>\n",
       "    .dataframe tbody tr th:only-of-type {\n",
       "        vertical-align: middle;\n",
       "    }\n",
       "\n",
       "    .dataframe tbody tr th {\n",
       "        vertical-align: top;\n",
       "    }\n",
       "\n",
       "    .dataframe thead th {\n",
       "        text-align: right;\n",
       "    }\n",
       "</style>\n",
       "<table border=\"1\" class=\"dataframe\">\n",
       "  <thead>\n",
       "    <tr style=\"text-align: right;\">\n",
       "      <th></th>\n",
       "      <th>tip</th>\n",
       "      <th>total_bill</th>\n",
       "    </tr>\n",
       "  </thead>\n",
       "  <tbody>\n",
       "    <tr>\n",
       "      <th>tip</th>\n",
       "      <td>1.914455</td>\n",
       "      <td>8.323502</td>\n",
       "    </tr>\n",
       "    <tr>\n",
       "      <th>total_bill</th>\n",
       "      <td>8.323502</td>\n",
       "      <td>79.252939</td>\n",
       "    </tr>\n",
       "  </tbody>\n",
       "</table>\n",
       "</div>"
      ],
      "text/plain": [
       "                 tip  total_bill\n",
       "tip         1.914455    8.323502\n",
       "total_bill  8.323502   79.252939"
      ]
     },
     "execution_count": 25,
     "metadata": {},
     "output_type": "execute_result"
    }
   ],
   "source": [
    "df[[\"tip\" , \"total_bill\"]].cov()"
   ]
  },
  {
   "cell_type": "code",
   "execution_count": 26,
   "id": "d28b6047",
   "metadata": {},
   "outputs": [
    {
     "data": {
      "text/html": [
       "<div>\n",
       "<style scoped>\n",
       "    .dataframe tbody tr th:only-of-type {\n",
       "        vertical-align: middle;\n",
       "    }\n",
       "\n",
       "    .dataframe tbody tr th {\n",
       "        vertical-align: top;\n",
       "    }\n",
       "\n",
       "    .dataframe thead th {\n",
       "        text-align: right;\n",
       "    }\n",
       "</style>\n",
       "<table border=\"1\" class=\"dataframe\">\n",
       "  <thead>\n",
       "    <tr style=\"text-align: right;\">\n",
       "      <th></th>\n",
       "      <th>tip</th>\n",
       "      <th>total_bill</th>\n",
       "    </tr>\n",
       "  </thead>\n",
       "  <tbody>\n",
       "    <tr>\n",
       "      <th>tip</th>\n",
       "      <td>1.000000</td>\n",
       "      <td>0.675734</td>\n",
       "    </tr>\n",
       "    <tr>\n",
       "      <th>total_bill</th>\n",
       "      <td>0.675734</td>\n",
       "      <td>1.000000</td>\n",
       "    </tr>\n",
       "  </tbody>\n",
       "</table>\n",
       "</div>"
      ],
      "text/plain": [
       "                 tip  total_bill\n",
       "tip         1.000000    0.675734\n",
       "total_bill  0.675734    1.000000"
      ]
     },
     "execution_count": 26,
     "metadata": {},
     "output_type": "execute_result"
    }
   ],
   "source": [
    "df[[\"tip\" , \"total_bill\"]].corr()"
   ]
  },
  {
   "cell_type": "markdown",
   "id": "6e1e64e2",
   "metadata": {},
   "source": [
    "#Güven ARALIĞI Anakütle parametresinin değerini kapsayabilecek iki sayıdan oluşan bir aralık bulunmasıdır."
   ]
  },
  {
   "cell_type": "markdown",
   "id": "09534d72",
   "metadata": {},
   "source": [
    "#web sitesinde geçirilen sürenin güven aralığı nedir ?\n",
    "#ortalama:180 saniye standart sapma : 40 saniye Güven aralığı ½95\n"
   ]
  },
  {
   "cell_type": "code",
   "execution_count": null,
   "id": "7a74dce7",
   "metadata": {},
   "outputs": [],
   "source": [
    "#İş uygulaması : Fiyat Stratejisi Karar Destek \n",
    "# Problem : Ceo fiyat belirleme konusunda bilimsel bir dayanak ve esneklik istiyor\n",
    "# Detaylar : Satıcı, alıcı ve bir ürün var. Alıcılara ürüne ne kadar ücret \n",
    "#   öderdinizdiye soruluyor.\n",
    "#     Optimum fiyat bilimsel ve esnek olarak bulunmak isteniyor."
   ]
  },
  {
   "cell_type": "code",
   "execution_count": 27,
   "id": "f91a4aac",
   "metadata": {},
   "outputs": [
    {
     "data": {
      "text/plain": [
       "58.492"
      ]
     },
     "execution_count": 27,
     "metadata": {},
     "output_type": "execute_result"
    }
   ],
   "source": [
    "import numpy as np\n",
    "fiyatlar = np.random.randint(10,110 , 1000)\n",
    "fiyatlar.mean()"
   ]
  },
  {
   "cell_type": "code",
   "execution_count": 28,
   "id": "356735f9",
   "metadata": {},
   "outputs": [],
   "source": [
    "import statsmodels.stats.api as sms"
   ]
  },
  {
   "cell_type": "code",
   "execution_count": 29,
   "id": "61453bdd",
   "metadata": {},
   "outputs": [
    {
     "data": {
      "text/plain": [
       "(56.67953887736034, 60.30446112263965)"
      ]
     },
     "execution_count": 29,
     "metadata": {},
     "output_type": "execute_result"
    }
   ],
   "source": [
    "sms.DescrStatsW(fiyatlar).tconfint_mean()"
   ]
  },
  {
   "cell_type": "markdown",
   "id": "80c175c3",
   "metadata": {},
   "source": [
    "Şu anda 56 ile 60 arasında iki adet çıktımız vardır.\n",
    "Çıkaracak oldugumuz ürünü satın almak üzere kullanıcıların ödemeyi göze aldıgı ücret istatistiksel olarak  ½ 95 güvenilirlik ile 56 ile 60 arasındadır\n",
    "Diğer ifadesiyle kullanıcıların ancak ½5 i bu ürüne ödemek üzere 56 ile 60 aralığı dışında bir bedel ödemektedir."
   ]
  },
  {
   "cell_type": "markdown",
   "id": "bc111f43",
   "metadata": {},
   "source": [
    "OLASILIK DAĞILIMLARI\n",
    "\n",
    "Bernoulli"
   ]
  },
  {
   "cell_type": "code",
   "execution_count": 1,
   "id": "483df231",
   "metadata": {},
   "outputs": [],
   "source": [
    "from scipy.stats import bernoulli"
   ]
  },
  {
   "cell_type": "code",
   "execution_count": 2,
   "id": "62fd4720",
   "metadata": {},
   "outputs": [],
   "source": [
    "p = 0.6"
   ]
  },
  {
   "cell_type": "code",
   "execution_count": 3,
   "id": "d427c893",
   "metadata": {},
   "outputs": [
    {
     "data": {
      "text/plain": [
       "0.4"
      ]
     },
     "execution_count": 3,
     "metadata": {},
     "output_type": "execute_result"
    }
   ],
   "source": [
    "rv = bernoulli(p)\n",
    "rv.pmf(k = 0)"
   ]
  },
  {
   "cell_type": "code",
   "execution_count": 4,
   "id": "38dc2d17",
   "metadata": {},
   "outputs": [],
   "source": [
    "#BÜYÜK SAYILAR YASASI\n",
    "# Bir rassal değişkenin uzun vadeli kararlılığını tanımlayan olasılık teoremidir"
   ]
  },
  {
   "cell_type": "code",
   "execution_count": 8,
   "id": "4604739d",
   "metadata": {},
   "outputs": [
    {
     "name": "stdout",
     "output_type": "stream",
     "text": [
      "Atış Sayısı: 2 --- Yazı Olasılığı : 50.00\n",
      "Atış Sayısı: 4 --- Yazı Olasılığı : 0.00\n",
      "Atış Sayısı: 8 --- Yazı Olasılığı : 62.50\n",
      "Atış Sayısı: 16 --- Yazı Olasılığı : 43.75\n",
      "Atış Sayısı: 32 --- Yazı Olasılığı : 46.88\n",
      "Atış Sayısı: 64 --- Yazı Olasılığı : 56.25\n",
      "Atış Sayısı: 128 --- Yazı Olasılığı : 50.78\n",
      "Atış Sayısı: 256 --- Yazı Olasılığı : 52.73\n",
      "Atış Sayısı: 512 --- Yazı Olasılığı : 52.93\n",
      "Atış Sayısı: 1024 --- Yazı Olasılığı : 50.20\n",
      "Atış Sayısı: 2048 --- Yazı Olasılığı : 48.58\n",
      "Atış Sayısı: 4096 --- Yazı Olasılığı : 49.49\n",
      "Atış Sayısı: 8192 --- Yazı Olasılığı : 49.58\n",
      "Atış Sayısı: 16384 --- Yazı Olasılığı : 49.96\n",
      "Atış Sayısı: 32768 --- Yazı Olasılığı : 50.00\n",
      "Atış Sayısı: 65536 --- Yazı Olasılığı : 49.68\n",
      "Atış Sayısı: 131072 --- Yazı Olasılığı : 49.97\n",
      "Atış Sayısı: 262144 --- Yazı Olasılığı : 50.13\n",
      "Atış Sayısı: 524288 --- Yazı Olasılığı : 50.01\n",
      "Atış Sayısı: 1048576 --- Yazı Olasılığı : 50.09\n"
     ]
    }
   ],
   "source": [
    "import numpy as np\n",
    "rng = np.random.RandomState(123)\n",
    "for i in np.arange(1,21):\n",
    "    deney_sayisi = 2**i\n",
    "    yazi_turalar = rng.randint(0 ,2 , size =deney_sayisi)\n",
    "    yazi_olasiliklari = np.mean(yazi_turalar)\n",
    "    print(\"Atış Sayısı:\" , deney_sayisi , \"---\", 'Yazı Olasılığı : %.2f'% (yazi_olasiliklari * 100) )"
   ]
  },
  {
   "cell_type": "code",
   "execution_count": 7,
   "id": "e3a52565",
   "metadata": {},
   "outputs": [
    {
     "data": {
      "text/plain": [
       "0.2"
      ]
     },
     "execution_count": 7,
     "metadata": {},
     "output_type": "execute_result"
    }
   ],
   "source": [
    "1/5"
   ]
  },
  {
   "cell_type": "markdown",
   "id": "e6e2cf2c",
   "metadata": {},
   "source": [
    "#REKLAM HARCAMASI OPTİMİZASYONU\n",
    " Problem:\n",
    " çeşitli mecralara reklam veriliyor , reklamların tıklanma ve geri dönüşüm oranları optimize edilmeye çalışılıyot. Buna yönelik olarak belirli bir mecrada \n",
    " çeşitli senaryolara göre tıklanma olasılıkları hesaplanmak isteniliyor.\n",
    " \n",
    " Detaylar:\n",
    " * Bir mecrada reklam verilecek\n",
    " * Dağılım ve reklama tıklanma olasılığı biliniyor (0.01)\n",
    " * Soru : Reklamı 100 kişi gördüğünde 1,5,10 tıklanması olasılığı nedir?\n"
   ]
  },
  {
   "cell_type": "code",
   "execution_count": 9,
   "id": "7466ced6",
   "metadata": {},
   "outputs": [],
   "source": [
    " from scipy.stats import binom"
   ]
  },
  {
   "cell_type": "code",
   "execution_count": 10,
   "id": "55542e0e",
   "metadata": {},
   "outputs": [
    {
     "name": "stdout",
     "output_type": "stream",
     "text": [
      "0.36972963764972666\n",
      "0.002897787123761478\n",
      "7.006035693977194e-08\n"
     ]
    }
   ],
   "source": [
    "p = 0.01\n",
    "n =100\n",
    "rv = binom(n,p)\n",
    "print(rv.pmf(1))\n",
    "print(rv.pmf(5))\n",
    "print(rv.pmf(10))"
   ]
  },
  {
   "cell_type": "markdown",
   "id": "94b15f1c",
   "metadata": {},
   "source": [
    "POİSSON DAĞILIMI :\n",
    "Belirli bir zaman aralığında belirli bir alanda nadiren rastlanan olayların olasılıklarını hesaplamak için kullanırız."
   ]
  },
  {
   "cell_type": "markdown",
   "id": "115338de",
   "metadata": {},
   "source": [
    "İŞ UYGULAMASI : İlan Girişi Hata Olasılıkları \n",
    "Detaylar : ,\n",
    "* 1  yıl boyunca ölçümler yapılıyor\n",
    "* Dağılım biliniyot ve lambda 0.1\n",
    "* Hiç hata olmaması , 3 hata olması ve 5 hata olması olasılıkları nedir?"
   ]
  },
  {
   "cell_type": "code",
   "execution_count": 11,
   "id": "caa5a7b4",
   "metadata": {},
   "outputs": [],
   "source": [
    "from scipy.stats import poisson "
   ]
  },
  {
   "cell_type": "code",
   "execution_count": 12,
   "id": "b3a37faa",
   "metadata": {},
   "outputs": [],
   "source": [
    "lambda_ = 0.1"
   ]
  },
  {
   "cell_type": "code",
   "execution_count": 13,
   "id": "b0b23cb2",
   "metadata": {},
   "outputs": [
    {
     "name": "stdout",
     "output_type": "stream",
     "text": [
      "0.9048374180359595\n"
     ]
    }
   ],
   "source": [
    "rv = poisson(mu = lambda_)\n",
    "print(rv.pmf(k = 0 ))"
   ]
  },
  {
   "cell_type": "code",
   "execution_count": 14,
   "id": "f961eb41",
   "metadata": {},
   "outputs": [
    {
     "name": "stdout",
     "output_type": "stream",
     "text": [
      "0.00015080623633932676\n"
     ]
    }
   ],
   "source": [
    "print(rv.pmf(k = 3))"
   ]
  },
  {
   "cell_type": "code",
   "execution_count": 15,
   "id": "4e64d846",
   "metadata": {},
   "outputs": [
    {
     "name": "stdout",
     "output_type": "stream",
     "text": [
      "7.54031181696634e-08\n"
     ]
    }
   ],
   "source": [
    "print(rv.pmf(k = 5))"
   ]
  },
  {
   "cell_type": "markdown",
   "id": "711bf72b",
   "metadata": {},
   "source": [
    "NORMAL DAĞILIM"
   ]
  },
  {
   "cell_type": "markdown",
   "id": "f18f81c2",
   "metadata": {},
   "source": [
    "İŞ UYGULAMASI : SATIŞ OLASILIKLARININ HESAPLANMASI\n",
    "Problem : bir yatırım toplantı öncesinde gelecek ay ile ilgili satışların \n",
    "belirli değerlerde gerçekleşmesi olasılıkları belirlenmek isteniyor.\n",
    "Detaylar :\n",
    "* Dağılımın normal dağılım olduğu biliniyor\n",
    "* Aylık ortalama satış sayısı 80k , standart sapması 5k\n",
    "* 90k'dan fazla satış yapma olasılığı nedir ?\n"
   ]
  },
  {
   "cell_type": "code",
   "execution_count": 19,
   "id": "340c6f78",
   "metadata": {},
   "outputs": [],
   "source": [
    "from scipy.stats import norm"
   ]
  },
  {
   "cell_type": "code",
   "execution_count": 21,
   "id": "e171539d",
   "metadata": {},
   "outputs": [
    {
     "data": {
      "text/plain": [
       "0.02275013194817921"
      ]
     },
     "execution_count": 21,
     "metadata": {},
     "output_type": "execute_result"
    }
   ],
   "source": [
    "#90'dan fazla olması \n",
    "1-norm.cdf(90 , 80, 5)"
   ]
  },
  {
   "cell_type": "code",
   "execution_count": 22,
   "id": "cd033c1c",
   "metadata": {},
   "outputs": [
    {
     "data": {
      "text/plain": [
       "0.9772498680518208"
      ]
     },
     "execution_count": 22,
     "metadata": {},
     "output_type": "execute_result"
    }
   ],
   "source": [
    "#70'den fazla olması\n",
    "1-norm.cdf(70 , 80, 5)\n"
   ]
  },
  {
   "cell_type": "code",
   "execution_count": 24,
   "id": "92d9a924",
   "metadata": {},
   "outputs": [
    {
     "data": {
      "text/plain": [
       "0.08075665923377107"
      ]
     },
     "execution_count": 24,
     "metadata": {},
     "output_type": "execute_result"
    }
   ],
   "source": [
    "#73'den az olması\n",
    "norm.cdf(73 , 80, 5)"
   ]
  },
  {
   "cell_type": "code",
   "execution_count": 25,
   "id": "96fba170",
   "metadata": {},
   "outputs": [
    {
     "data": {
      "text/plain": [
       "0.13590512198327787"
      ]
     },
     "execution_count": 25,
     "metadata": {},
     "output_type": "execute_result"
    }
   ],
   "source": [
    "#85 ile 90 arasında olması\n",
    "norm.cdf(90 , 80, 5) - norm.cdf(85 , 80, 5)"
   ]
  },
  {
   "cell_type": "markdown",
   "id": "a1494613",
   "metadata": {},
   "source": [
    "   HİPOTEZ TESTLERİ"
   ]
  },
  {
   "cell_type": "code",
   "execution_count": null,
   "id": "266e8a25",
   "metadata": {},
   "outputs": [],
   "source": [
    "#Bir inanışı (bir savı, bir tahmini vs) test etmek için kullanılan istatistiksel tekniktir."
   ]
  },
  {
   "cell_type": "markdown",
   "id": "eb8de427",
   "metadata": {},
   "source": [
    "    Hipotez testlerinin souçlarını değerlendirmek üzere programlar tarafından p-value değeri verilir. Bu değer üzerinden kolayca yorum yapabiliriz"
   ]
  },
  {
   "cell_type": "markdown",
   "id": "14d3ab8d",
   "metadata": {},
   "source": [
    "Dağılım testlerinde H0 reddedilmek istenilmez. Çünkü H0 \"örnek dağılımı ile teorik dağılım arasında fark yoktur\" der."
   ]
  },
  {
   "cell_type": "markdown",
   "id": "dcce883c",
   "metadata": {},
   "source": [
    "HİPOTEZ TESTİ ADIMLARI \n",
    " adım 1 : Hipotezlerin kurulması ve yönlerinin belirlenmesi\n",
    " adım 2 : Anlamlılık düzeyinin ve tablo değerinin belirlenmesi\n",
    " adım 3 : Test istatistiğinin belirlenmesi ve test istatistiğinin hesaplanması\n",
    " adım 4 : Hesaplanan test istatistiği ile alfaya karşılık gelen tablo değerinin karşılaştırılması \n",
    " \n",
    "      test istatistiği(Zh) > tablo değeri (Zt) ise H0 Red\n",
    "  adım 5 : Yorum "
   ]
  },
  {
   "cell_type": "code",
   "execution_count": null,
   "id": "256afe07",
   "metadata": {},
   "outputs": [],
   "source": [
    "# Tek örneklem T testi"
   ]
  },
  {
   "cell_type": "markdown",
   "id": "b91ab5f2",
   "metadata": {},
   "source": [
    "Popülasyon ortalaması ile varsayımsal bir değer arasında istatistiksel olarak anlamlı bir farklılık olup olmadığını test etmek için kullanılan parametrik bir testtir."
   ]
  },
  {
   "cell_type": "markdown",
   "id": "e1bdf832",
   "metadata": {},
   "source": [
    "1. Anakütle standart sapması biliniyorsa z istatistiği kullanılır\n",
    "2. Anakütle standart sapması bilinmiyorsa ve n > 30 ise z istatistiği kullanılır.\n",
    "3. Anakütle standart sapması bilinmiyor ve n < 30 ise t istatistiği kullanılır."
   ]
  },
  {
   "cell_type": "code",
   "execution_count": 1,
   "id": "f8a3186c",
   "metadata": {},
   "outputs": [],
   "source": [
    "# İş Uygulaması : web sitesinde geçirilen süre"
   ]
  },
  {
   "cell_type": "markdown",
   "id": "18926553",
   "metadata": {},
   "source": [
    "Problem : web sitesinde geçirilen ortalama süre gerçekten 170 saniye mi?\n",
    "Detaylar : yazılımlardan elde edilen web sitesinde geçirilen ort. süreler var"
   ]
  },
  {
   "cell_type": "markdown",
   "id": "78d86043",
   "metadata": {},
   "source": [
    "hipotezimiz : \n",
    "H0 : µ = 170\n",
    "H1 : µ ≠ 170"
   ]
  },
  {
   "cell_type": "code",
   "execution_count": 14,
   "id": "3e1b21ee",
   "metadata": {},
   "outputs": [],
   "source": [
    "import numpy as np\n",
    "import pandas as pd"
   ]
  },
  {
   "cell_type": "code",
   "execution_count": 15,
   "id": "5e9ac1ef",
   "metadata": {},
   "outputs": [],
   "source": [
    "olcumler = np.array([17, 160, 234, 149, 145, 107, 197, 75, 201, 225, 211, 119,\n",
    "                    157, 145, 127, 244, 163, 114, 145, 65, 112, 185, 202, 146, \n",
    "                    203, 224, 203, 114, 188, 156, 187, 154, 177, 95, 165, 50, 110,\n",
    "                    216, 138, 151, 166, 135, 155, 84, 251, 173, 131, 207, 121, 120])"
   ]
  },
  {
   "cell_type": "code",
   "execution_count": 16,
   "id": "6d43d4f9",
   "metadata": {},
   "outputs": [
    {
     "data": {
      "text/plain": [
       "array([ 17, 160, 234, 149, 145, 107, 197,  75, 201, 225])"
      ]
     },
     "execution_count": 16,
     "metadata": {},
     "output_type": "execute_result"
    }
   ],
   "source": [
    "olcumler [0:10]"
   ]
  },
  {
   "cell_type": "code",
   "execution_count": 17,
   "id": "11f5e88b",
   "metadata": {},
   "outputs": [],
   "source": [
    "import scipy.stats as stats"
   ]
  },
  {
   "cell_type": "code",
   "execution_count": 18,
   "id": "554079ac",
   "metadata": {},
   "outputs": [
    {
     "data": {
      "text/plain": [
       "DescribeResult(nobs=50, minmax=(17, 251), mean=154.38, variance=2578.0363265306123, skewness=-0.32398897278694483, kurtosis=-0.05849823498415985)"
      ]
     },
     "execution_count": 18,
     "metadata": {},
     "output_type": "execute_result"
    }
   ],
   "source": [
    "stats.describe(olcumler)"
   ]
  },
  {
   "cell_type": "code",
   "execution_count": 19,
   "id": "502bade9",
   "metadata": {},
   "outputs": [],
   "source": [
    "#varsayımlar\n",
    "#normallik varsayımı"
   ]
  },
  {
   "cell_type": "code",
   "execution_count": 20,
   "id": "8f994dc8",
   "metadata": {},
   "outputs": [
    {
     "data": {
      "image/png": "[encoded data removed]",
      "text/plain": [
       "<Figure size 432x288 with 1 Axes>"
      ]
     },
     "metadata": {
      "needs_background": "light"
     },
     "output_type": "display_data"
    }
   ],
   "source": [
    "pd.DataFrame(olcumler).plot.hist();"
   ]
  },
  {
   "cell_type": "code",
   "execution_count": 21,
   "id": "e12e3fdc",
   "metadata": {},
   "outputs": [],
   "source": [
    "#Histogram grafinde çok ciddi bir bozukluk gözükmemektedir.Normal dağılım izlenimi verir"
   ]
  },
  {
   "cell_type": "code",
   "execution_count": 22,
   "id": "9c6ba8cd",
   "metadata": {},
   "outputs": [
    {
     "data": {
      "image/png": "[encoded data removed]",
      "text/plain": [
       "<Figure size 432x288 with 1 Axes>"
      ]
     },
     "metadata": {
      "needs_background": "light"
     },
     "output_type": "display_data"
    }
   ],
   "source": [
    "#qqplot\n",
    "import pylab\n",
    "stats.probplot(olcumler , dist=\"norm\", plot=pylab)\n",
    "pylab.show()"
   ]
  },
  {
   "cell_type": "code",
   "execution_count": 23,
   "id": "306e7960",
   "metadata": {},
   "outputs": [],
   "source": [
    "# Grafik incellendiğinde normal dağılımın sağlandığı gözlemlenmektedir.\n",
    "# qqplot çıktısında sol tarfa örnek dağılımını alt taraf ise teorik dağılımı ifade eder\n",
    "# Örnek dağılım elimizdeki ölçümlerdir teorik dağılım ise ilgilenmiş olduğumuz normal dağılımdır"
   ]
  },
  {
   "cell_type": "code",
   "execution_count": 24,
   "id": "786642ee",
   "metadata": {},
   "outputs": [],
   "source": [
    "# SHAPİRO-WİLKS TESTİ"
   ]
  },
  {
   "cell_type": "markdown",
   "id": "5ba0562d",
   "metadata": {},
   "source": [
    "-H0 : Örnek dağılımı ile teorik normal dağılım arasında istatistiksel olarak anlamlı bir fark yoktur\n",
    "-H1 : ..... fark vardır"
   ]
  },
  {
   "cell_type": "code",
   "execution_count": 25,
   "id": "098ad8e2",
   "metadata": {},
   "outputs": [],
   "source": [
    "from scipy.stats import shapiro"
   ]
  },
  {
   "cell_type": "code",
   "execution_count": 26,
   "id": "6400c9b0",
   "metadata": {},
   "outputs": [
    {
     "data": {
      "text/plain": [
       "ShapiroResult(statistic=0.9853105545043945, pvalue=0.7848747968673706)"
      ]
     },
     "execution_count": 26,
     "metadata": {},
     "output_type": "execute_result"
    }
   ],
   "source": [
    "shapiro(olcumler)"
   ]
  },
  {
   "cell_type": "code",
   "execution_count": 27,
   "id": "e3914b73",
   "metadata": {},
   "outputs": [],
   "source": [
    "# Hipotez Testinin Uygulanması"
   ]
  },
  {
   "cell_type": "code",
   "execution_count": 28,
   "id": "eb5db987",
   "metadata": {},
   "outputs": [
    {
     "data": {
      "text/plain": [
       "Ttest_1sampResult(statistic=-2.1753117985877966, pvalue=0.034460415195071446)"
      ]
     },
     "execution_count": 28,
     "metadata": {},
     "output_type": "execute_result"
    }
   ],
   "source": [
    "stats.ttest_1samp(olcumler , popmean =170)"
   ]
  },
  {
   "cell_type": "markdown",
   "id": "f5a5d322",
   "metadata": {},
   "source": [
    "H0 : Web sitemizde geçirilen ortalama süre ortalama süre 170'dir\n",
    "H1 : ... değildir.\n",
    "p value değerimize bakacak olursak H0 hipotezini reddetmiş oluruz."
   ]
  },
  {
   "cell_type": "code",
   "execution_count": null,
   "id": "2dafac6b",
   "metadata": {},
   "outputs": [],
   "source": [
    "# Nonparametrik tek örneklem testi"
   ]
  },
  {
   "cell_type": "code",
   "execution_count": 1,
   "id": "18fc4367",
   "metadata": {},
   "outputs": [],
   "source": [
    "import numpy as np\n",
    "import pandas as pd"
   ]
  },
  {
   "cell_type": "code",
   "execution_count": 2,
   "id": "46d36472",
   "metadata": {},
   "outputs": [],
   "source": [
    "olcumler = np.array([17, 160, 234, 149, 145, 107, 197, 75, 201, 225, 211, 119,\n",
    "                    157, 145, 127, 244, 163, 114, 145, 65, 112, 185, 202, 146, \n",
    "                    203, 224, 203, 114, 188, 156, 187, 154, 177, 95, 165, 50, 110,\n",
    "                    216, 138, 151, 166, 135, 155, 84, 251, 173, 131, 207, 121, 120])"
   ]
  },
  {
   "cell_type": "code",
   "execution_count": 4,
   "id": "0c7349ea",
   "metadata": {},
   "outputs": [],
   "source": [
    "from statsmodels.stats.descriptivestats import sign_test"
   ]
  },
  {
   "cell_type": "code",
   "execution_count": 5,
   "id": "b2fb7bc8",
   "metadata": {},
   "outputs": [
    {
     "data": {
      "text/plain": [
       "(-7.0, 0.06490864707227217)"
      ]
     },
     "execution_count": 5,
     "metadata": {},
     "output_type": "execute_result"
    }
   ],
   "source": [
    "sign_test(olcumler,170)"
   ]
  },
  {
   "cell_type": "markdown",
   "id": "35c35f4a",
   "metadata": {},
   "source": [
    "Merkezi eğilimin 170 olup olmadığını kontrol ettik . p-value < 0.06"
   ]
  },
  {
   "cell_type": "code",
   "execution_count": 1,
   "id": "77b6b56c",
   "metadata": {},
   "outputs": [],
   "source": [
    "# İŞ UYGULAMASI: DÖNÜŞÜM ORANI TESTİ"
   ]
  },
  {
   "cell_type": "markdown",
   "id": "f78d084e",
   "metadata": {},
   "source": [
    "PROBLEM: Bir yazılım ile bir mecrada reklam verilmiş ve bu reklama ilişkin yazılım tarafından 0.125 dönüşüm oranı elde edildiği ifade edilmiş. Fakat bu durum kontrol edilmek isteniyor . Çünkü bu yüksek bir oran ve gelirler incelendiğinde örtüşmüyor.\n",
    "\n",
    "HO: p = 0.125\n",
    "H1:p! = 0.125"
   ]
  },
  {
   "cell_type": "markdown",
   "id": "03e6297d",
   "metadata": {},
   "source": [
    "DETAYLAR : 500 kişi dış mecrada reklamlara tıklamış , 40 tanesi sitemize gelip alışveriş yapmış.\n",
    "Örnek üzerinden elde edilen dönüşüm oranı : 40/500 =0.08"
   ]
  },
  {
   "cell_type": "code",
   "execution_count": 5,
   "id": "a2944196",
   "metadata": {},
   "outputs": [],
   "source": [
    "from statsmodels.stats.proportion import proportions_ztest"
   ]
  },
  {
   "cell_type": "code",
   "execution_count": 3,
   "id": "767ab14c",
   "metadata": {},
   "outputs": [],
   "source": [
    "count = 40\n",
    "nobs = 500\n",
    "value = 0.125"
   ]
  },
  {
   "cell_type": "code",
   "execution_count": 6,
   "id": "68cbaf99",
   "metadata": {},
   "outputs": [
    {
     "data": {
      "text/plain": [
       "(-3.7090151628513017, 0.0002080669689845979)"
      ]
     },
     "execution_count": 6,
     "metadata": {},
     "output_type": "execute_result"
    }
   ],
   "source": [
    "proportions_ztest(count, nobs, value)"
   ]
  },
  {
   "cell_type": "markdown",
   "id": "69eb0897",
   "metadata": {},
   "source": [
    "        BAĞIMSIZ İKİ ÖRNEKLEM T TESTİ (AB Testi)\n",
    "İki grup ortalamsı arasında karşılaştırma yapılmak istenildiğinde kullanılır."
   ]
  },
  {
   "cell_type": "code",
   "execution_count": 7,
   "id": "6274d2e6",
   "metadata": {},
   "outputs": [],
   "source": [
    "# İŞ UYGULAMASI : ML MODELİNİN BAŞARI TESTİ ( )"
   ]
  },
  {
   "cell_type": "markdown",
   "id": "617119ad",
   "metadata": {},
   "source": [
    "PROBLEM : Bir ML projesine yatırım yapılmış . Ürettiği tahminler neticesinde oluşan gelir ile eski sistemin ürettiği gelirler karşılaştırılıp anlamlı farklılık olup olmadığı test edilmek isteniyot"
   ]
  },
  {
   "cell_type": "markdown",
   "id": "72e2a18c",
   "metadata": {},
   "source": [
    "DETAYLAR : \n",
    "- Model geliştirilmiş ve web sitesine entegre edilmiş.\n",
    "- Site kullanıcıları belirli bir kurala göre ikiye bölünmüş olsun.\n",
    "- A grubu eski B grubu yeni sistem \n",
    "- Gelir anlamında anlamlı bir iş yapılıp yapılmadığı test edilmek isteniyor."
   ]
  },
  {
   "cell_type": "code",
   "execution_count": 8,
   "id": "73737e27",
   "metadata": {},
   "outputs": [],
   "source": [
    "# HO : µ1 = µ2\n",
    "# H1 : µ1 ≠ µ2\n",
    "# VERİ TİPİ 1"
   ]
  },
  {
   "cell_type": "code",
   "execution_count": 24,
   "id": "32d0efcf",
   "metadata": {},
   "outputs": [],
   "source": [
    "import pandas as pd\n",
    "import numpy as np"
   ]
  },
  {
   "cell_type": "code",
   "execution_count": 12,
   "id": "a41a9d98",
   "metadata": {},
   "outputs": [
    {
     "data": {
      "text/html": [
       "<div>\n",
       "<style scoped>\n",
       "    .dataframe tbody tr th:only-of-type {\n",
       "        vertical-align: middle;\n",
       "    }\n",
       "\n",
       "    .dataframe tbody tr th {\n",
       "        vertical-align: top;\n",
       "    }\n",
       "\n",
       "    .dataframe thead th {\n",
       "        text-align: right;\n",
       "    }\n",
       "</style>\n",
       "<table border=\"1\" class=\"dataframe\">\n",
       "  <thead>\n",
       "    <tr style=\"text-align: right;\">\n",
       "      <th></th>\n",
       "      <th>A</th>\n",
       "      <th>B</th>\n",
       "    </tr>\n",
       "  </thead>\n",
       "  <tbody>\n",
       "    <tr>\n",
       "      <th>0</th>\n",
       "      <td>30</td>\n",
       "      <td>37</td>\n",
       "    </tr>\n",
       "    <tr>\n",
       "      <th>1</th>\n",
       "      <td>27</td>\n",
       "      <td>39</td>\n",
       "    </tr>\n",
       "    <tr>\n",
       "      <th>2</th>\n",
       "      <td>21</td>\n",
       "      <td>31</td>\n",
       "    </tr>\n",
       "    <tr>\n",
       "      <th>3</th>\n",
       "      <td>27</td>\n",
       "      <td>31</td>\n",
       "    </tr>\n",
       "    <tr>\n",
       "      <th>4</th>\n",
       "      <td>29</td>\n",
       "      <td>34</td>\n",
       "    </tr>\n",
       "  </tbody>\n",
       "</table>\n",
       "</div>"
      ],
      "text/plain": [
       "    A   B\n",
       "0  30  37\n",
       "1  27  39\n",
       "2  21  31\n",
       "3  27  31\n",
       "4  29  34"
      ]
     },
     "execution_count": 12,
     "metadata": {},
     "output_type": "execute_result"
    }
   ],
   "source": [
    "A = pd.DataFrame ([30,27,21,27,29,30,20,20,27,32,35,22,24,23,25,27,23,27,23,\n",
    "                  25,21,18,24,26,33,26,27,28,19,25])\n",
    "\n",
    "B = pd.DataFrame ([37,39,31,31,34,38,30,36,29,28,38,28,37,37,30,32,31,31,27,\n",
    "                  32,33,33,33,31,32,33,26,32,33,29])\n",
    "\n",
    "A_B = pd.concat([A,B], axis =1)\n",
    "A_B.columns =[\"A\",\"B\"]\n",
    "A_B.head()"
   ]
  },
  {
   "cell_type": "code",
   "execution_count": 13,
   "id": "e434b816",
   "metadata": {},
   "outputs": [],
   "source": [
    "# VERİ TİPİ 2"
   ]
  },
  {
   "cell_type": "code",
   "execution_count": 15,
   "id": "ad1435d2",
   "metadata": {},
   "outputs": [
    {
     "name": "stdout",
     "output_type": "stream",
     "text": [
      "   gelir GRUP\n",
      "0     30    A\n",
      "1     27    A\n",
      "2     21    A\n",
      "3     27    A\n",
      "4     29    A\n",
      "    gelir GRUP\n",
      "25     33    B\n",
      "26     26    B\n",
      "27     32    B\n",
      "28     33    B\n",
      "29     29    B\n"
     ]
    }
   ],
   "source": [
    "A = pd.DataFrame ([30,27,21,27,29,30,20,20,27,32,35,22,24,23,25,27,23,27,23,\n",
    "                  25,21,18,24,26,33,26,27,28,19,25])\n",
    "\n",
    "B = pd.DataFrame ([37,39,31,31,34,38,30,36,29,28,38,28,37,37,30,32,31,31,27,\n",
    "                  32,33,33,33,31,32,33,26,32,33,29])\n",
    "\n",
    "# A ve A'nın grubu\n",
    "GRUP_A = np.arange(len(A))\n",
    "GRUP_A = pd.DataFrame(GRUP_A)\n",
    "GRUP_A[ : ] = \"A\"\n",
    "A = pd.concat([A, GRUP_A], axis = 1)\n",
    "\n",
    "# B ve B'nin grubu\n",
    "GRUP_B = np.arange(len(B))\n",
    "GRUP_B = pd.DataFrame(GRUP_B)\n",
    "GRUP_B[ : ] = \"B\"\n",
    "B = pd.concat([B, GRUP_B], axis = 1)\n",
    "\n",
    "#Tum veri\n",
    "AB = pd.concat([A,B])\n",
    "AB.columns = [\"gelir\", \"GRUP\"]\n",
    "print(AB.head())\n",
    "print(AB.tail())\n"
   ]
  },
  {
   "cell_type": "code",
   "execution_count": 17,
   "id": "5e5d9efc",
   "metadata": {},
   "outputs": [
    {
     "data": {
      "image/png": "[encoded data removed]",
      "text/plain": [
       "<Figure size 432x288 with 1 Axes>"
      ]
     },
     "metadata": {
      "needs_background": "light"
     },
     "output_type": "display_data"
    }
   ],
   "source": [
    "import seaborn as sns\n",
    "sns.boxplot( x=\"GRUP\", y= \"gelir\" , data= AB);"
   ]
  },
  {
   "cell_type": "code",
   "execution_count": 18,
   "id": "983caefd",
   "metadata": {},
   "outputs": [],
   "source": [
    "# Varsayım kontrolü gerçekleştireceğiz"
   ]
  },
  {
   "cell_type": "code",
   "execution_count": 19,
   "id": "d89fc821",
   "metadata": {},
   "outputs": [
    {
     "data": {
      "text/plain": [
       "ShapiroResult(statistic=0.9789242148399353, pvalue=0.7962799668312073)"
      ]
     },
     "execution_count": 19,
     "metadata": {},
     "output_type": "execute_result"
    }
   ],
   "source": [
    "# Normallik varsayımı için ;\n",
    "from scipy.stats import shapiro\n",
    "shapiro(A_B.A)"
   ]
  },
  {
   "cell_type": "code",
   "execution_count": 20,
   "id": "8b8798ed",
   "metadata": {},
   "outputs": [],
   "source": [
    "# AB isimli veri setimizden A değişkenimizi çekip normallik testi yaptık\n",
    "# Örnek dağılımı ile teorik normal dağılım arasında fark yoktur."
   ]
  },
  {
   "cell_type": "code",
   "execution_count": 21,
   "id": "4a9b35c5",
   "metadata": {},
   "outputs": [
    {
     "data": {
      "text/plain": [
       "ShapiroResult(statistic=0.9561260342597961, pvalue=0.24584221839904785)"
      ]
     },
     "execution_count": 21,
     "metadata": {},
     "output_type": "execute_result"
    }
   ],
   "source": [
    "shapiro(A_B.B)"
   ]
  },
  {
   "cell_type": "code",
   "execution_count": null,
   "id": "ec6068dd",
   "metadata": {},
   "outputs": [],
   "source": []
  }
 ],
 "metadata": {
  "kernelspec": {
   "display_name": "Python 3 (ipykernel)",
   "language": "python",
   "name": "python3"
  },
  "language_info": {
   "codemirror_mode": {
    "name": "ipython",
    "version": 3
   },
   "file_extension": ".py",
   "mimetype": "text/x-python",
   "name": "python",
   "nbconvert_exporter": "python",
   "pygments_lexer": "ipython3",
   "version": "3.9.7"
  }
 },
 "nbformat": 4,
 "nbformat_minor": 5
}
